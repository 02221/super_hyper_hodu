{
 "cells": [
  {
   "cell_type": "markdown",
   "metadata": {},
   "source": [
    "# ELS valuation"
   ]
  },
  {
   "cell_type": "markdown",
   "metadata": {},
   "source": [
    "## - ELS 조건 -"
   ]
  },
  {
   "cell_type": "markdown",
   "metadata": {},
   "source": [
    "### 1. 매 6개월 마다 두 종목의 조기상환평가가격이 모두 기준가격의 85%(6개월), 80%(12개월), 75%(18개월), 70%(24개월) 이상인 경우 연(12.5%)의 수익으로 자동 조기상환 결정"
   ]
  },
  {
   "cell_type": "markdown",
   "metadata": {},
   "source": [
    "### 2. 조기상환이 연장될 경우 조기상환 조건 또한 낮아짐으로서 조기상환 가능성을 높이는 구조"
   ]
  },
  {
   "cell_type": "markdown",
   "metadata": {},
   "source": [
    "### 3. 수익발생의 기회가 6개월 단위로 4회부여"
   ]
  },
  {
   "cell_type": "markdown",
   "metadata": {},
   "source": [
    "### 4. 최대 25% 수익이 가능(만기까지 최대연장의 경우)"
   ]
  },
  {
   "cell_type": "markdown",
   "metadata": {},
   "source": [
    "### 5. 만기 시점까지 한 종목이라도 일별 주가가(장중가 포함) 기준가격이 60% 미만으로 하락한 적이 있는 경우, 원금 손실 가능"
   ]
  },
  {
   "cell_type": "markdown",
   "metadata": {},
   "source": [
    "## - 상품개요 -"
   ]
  },
  {
   "cell_type": "markdown",
   "metadata": {},
   "source": [
    "### 대상종목 : 삼성전자, SK Hynix"
   ]
  },
  {
   "cell_type": "markdown",
   "metadata": {},
   "source": [
    "### 만기 : 2년"
   ]
  },
  {
   "cell_type": "markdown",
   "metadata": {},
   "source": [
    "### 수익률 : 연 12.5% / 6개월 단위 6.25%"
   ]
  },
  {
   "cell_type": "markdown",
   "metadata": {},
   "source": [
    "### 기준가격검정일 : 2019. 11. 1"
   ]
  },
  {
   "cell_type": "markdown",
   "metadata": {},
   "source": [
    "### 수익발생요건 : 매 6개월 마다 두 기초자산의 조기상환평가가격이 모두 기준가격의 85%(6개월), 80%(12개월), 75%(18개월), 70%(24개월) 이상인 경우"
   ]
  },
  {
   "cell_type": "markdown",
   "metadata": {},
   "source": [
    "### 최대가능수익률 : 25% (만기까지 최대연장의 경우)"
   ]
  },
  {
   "cell_type": "markdown",
   "metadata": {},
   "source": [
    "### 최대가능손실률 : 만기평가가격이 0인 기초자산이 있는 경우 원금 전액 손실가능"
   ]
  },
  {
   "cell_type": "code",
   "execution_count": 117,
   "metadata": {},
   "outputs": [],
   "source": [
    "import pandas as pd\n",
    "import numpy as np\n",
    "import datetime\n",
    "import yfinance as yf\n",
    "import matplotlib.pyplot as plt\n",
    "%matplotlib inline"
   ]
  },
  {
   "cell_type": "code",
   "execution_count": 2,
   "metadata": {},
   "outputs": [],
   "source": [
    "data = pd.read_csv(\"KRX_adj_except_div.csv\",encoding=\"CP949\",index_col=\"Unnamed: 0\")"
   ]
  },
  {
   "cell_type": "code",
   "execution_count": 3,
   "metadata": {},
   "outputs": [],
   "source": [
    "df = yf.download(\"005930.KS\",\n",
    "                 start = \"2011-12-20\",\n",
    "                 end = \"2021-12-20\",\n",
    "                 progress = False)"
   ]
  },
  {
   "cell_type": "code",
   "execution_count": 4,
   "metadata": {},
   "outputs": [],
   "source": [
    "df2 = yf.download(\"000660.KS\",\n",
    "                 start = \"2011-12-20\",\n",
    "                 end = \"2021-12-20\",\n",
    "                 progress = False)"
   ]
  },
  {
   "cell_type": "code",
   "execution_count": 5,
   "metadata": {
    "scrolled": true
   },
   "outputs": [],
   "source": [
    "ddf = df.Close\n",
    "ddf2 = df2.Close"
   ]
  },
  {
   "cell_type": "code",
   "execution_count": 6,
   "metadata": {},
   "outputs": [],
   "source": [
    "dff = pd.concat([ddf, ddf2], axis=1)\n",
    "dff.columns = ['Samsung','Hynix']"
   ]
  },
  {
   "cell_type": "code",
   "execution_count": 7,
   "metadata": {},
   "outputs": [],
   "source": [
    "dff_before = dff.loc[:'2019-11-01']\n",
    "dff_after = dff.loc['2019-11-01':]"
   ]
  },
  {
   "cell_type": "code",
   "execution_count": 8,
   "metadata": {},
   "outputs": [],
   "source": [
    "df_samsung = dff_before['Samsung'].pct_change()\n",
    "df_hynix = dff_before['Hynix'].pct_change()"
   ]
  },
  {
   "cell_type": "code",
   "execution_count": 9,
   "metadata": {},
   "outputs": [],
   "source": [
    "ELS = pd.concat([df_samsung, df_hynix], axis = 1)\n",
    "corr = ELS.corr().iloc[0,1]"
   ]
  },
  {
   "cell_type": "code",
   "execution_count": 10,
   "metadata": {},
   "outputs": [],
   "source": [
    "sigma1 = df_samsung.std()\n",
    "sigma2 = df_hynix.std()"
   ]
  },
  {
   "cell_type": "code",
   "execution_count": 11,
   "metadata": {},
   "outputs": [
    {
     "name": "stdout",
     "output_type": "stream",
     "text": [
      "0.016421490005074646 0.02187218386305691 0.4175359393815786\n"
     ]
    }
   ],
   "source": [
    "# 삼성전자, 하이닉스의 과거 분산과 상관성이 미래에도 유지될거라고 가정하고 이전의 데이터로 표준편차와 상관관계를 구함\n",
    "print(sigma1, sigma2, corr)"
   ]
  },
  {
   "cell_type": "code",
   "execution_count": 12,
   "metadata": {},
   "outputs": [
    {
     "data": {
      "text/plain": [
       "<AxesSubplot:>"
      ]
     },
     "execution_count": 12,
     "metadata": {},
     "output_type": "execute_result"
    },
    {
     "data": {
      "image/png": "[encoded data removed]",
      "text/plain": [
       "<Figure size 432x288 with 1 Axes>"
      ]
     },
     "metadata": {
      "needs_background": "light"
     },
     "output_type": "display_data"
    }
   ],
   "source": [
    "# 삼성전자의 일별 수익률 분포\n",
    "(df_samsung).hist(bins=20)\n",
    "# 하이닉스의 일별 수익률 분포\n",
    "(df_hynix).hist(bins=20)"
   ]
  },
  {
   "cell_type": "code",
   "execution_count": 13,
   "metadata": {},
   "outputs": [
    {
     "data": {
      "text/html": [
       "<div>\n",
       "<style scoped>\n",
       "    .dataframe tbody tr th:only-of-type {\n",
       "        vertical-align: middle;\n",
       "    }\n",
       "\n",
       "    .dataframe tbody tr th {\n",
       "        vertical-align: top;\n",
       "    }\n",
       "\n",
       "    .dataframe thead th {\n",
       "        text-align: right;\n",
       "    }\n",
       "</style>\n",
       "<table border=\"1\" class=\"dataframe\">\n",
       "  <thead>\n",
       "    <tr style=\"text-align: right;\">\n",
       "      <th></th>\n",
       "      <th>000010</th>\n",
       "      <th>000020</th>\n",
       "      <th>000021</th>\n",
       "      <th>000030</th>\n",
       "      <th>000040</th>\n",
       "      <th>000041</th>\n",
       "      <th>000042</th>\n",
       "      <th>000050</th>\n",
       "      <th>000060</th>\n",
       "      <th>000070</th>\n",
       "      <th>...</th>\n",
       "      <th>950070</th>\n",
       "      <th>950100</th>\n",
       "      <th>950110</th>\n",
       "      <th>950130</th>\n",
       "      <th>950140</th>\n",
       "      <th>950160</th>\n",
       "      <th>950170</th>\n",
       "      <th>950180</th>\n",
       "      <th>950190</th>\n",
       "      <th>950200</th>\n",
       "    </tr>\n",
       "  </thead>\n",
       "  <tbody>\n",
       "    <tr>\n",
       "      <th>20201224</th>\n",
       "      <td>NaN</td>\n",
       "      <td>20450.000000</td>\n",
       "      <td>NaN</td>\n",
       "      <td>NaN</td>\n",
       "      <td>1115.000000</td>\n",
       "      <td>NaN</td>\n",
       "      <td>NaN</td>\n",
       "      <td>12000.000000</td>\n",
       "      <td>16200.000000</td>\n",
       "      <td>74500.000000</td>\n",
       "      <td>...</td>\n",
       "      <td>NaN</td>\n",
       "      <td>NaN</td>\n",
       "      <td>8020.0</td>\n",
       "      <td>21450.0</td>\n",
       "      <td>4895.0</td>\n",
       "      <td>8010.0</td>\n",
       "      <td>5500.0</td>\n",
       "      <td>18650.0</td>\n",
       "      <td>27500.0</td>\n",
       "      <td>18200.0</td>\n",
       "    </tr>\n",
       "    <tr>\n",
       "      <th>20201223</th>\n",
       "      <td>NaN</td>\n",
       "      <td>20450.000000</td>\n",
       "      <td>NaN</td>\n",
       "      <td>NaN</td>\n",
       "      <td>1115.000000</td>\n",
       "      <td>NaN</td>\n",
       "      <td>NaN</td>\n",
       "      <td>12000.000000</td>\n",
       "      <td>16200.000000</td>\n",
       "      <td>74500.000000</td>\n",
       "      <td>...</td>\n",
       "      <td>NaN</td>\n",
       "      <td>NaN</td>\n",
       "      <td>8020.0</td>\n",
       "      <td>21450.0</td>\n",
       "      <td>4895.0</td>\n",
       "      <td>8010.0</td>\n",
       "      <td>5500.0</td>\n",
       "      <td>18650.0</td>\n",
       "      <td>27500.0</td>\n",
       "      <td>18200.0</td>\n",
       "    </tr>\n",
       "    <tr>\n",
       "      <th>20201222</th>\n",
       "      <td>NaN</td>\n",
       "      <td>23900.000000</td>\n",
       "      <td>NaN</td>\n",
       "      <td>NaN</td>\n",
       "      <td>1120.000000</td>\n",
       "      <td>NaN</td>\n",
       "      <td>NaN</td>\n",
       "      <td>11950.000000</td>\n",
       "      <td>15900.000000</td>\n",
       "      <td>72900.000000</td>\n",
       "      <td>...</td>\n",
       "      <td>NaN</td>\n",
       "      <td>NaN</td>\n",
       "      <td>8090.0</td>\n",
       "      <td>22900.0</td>\n",
       "      <td>4925.0</td>\n",
       "      <td>8010.0</td>\n",
       "      <td>5690.0</td>\n",
       "      <td>19500.0</td>\n",
       "      <td>27400.0</td>\n",
       "      <td>18200.0</td>\n",
       "    </tr>\n",
       "    <tr>\n",
       "      <th>20201221</th>\n",
       "      <td>NaN</td>\n",
       "      <td>23450.000000</td>\n",
       "      <td>NaN</td>\n",
       "      <td>NaN</td>\n",
       "      <td>1215.000000</td>\n",
       "      <td>NaN</td>\n",
       "      <td>NaN</td>\n",
       "      <td>12100.000000</td>\n",
       "      <td>16000.000000</td>\n",
       "      <td>75500.000000</td>\n",
       "      <td>...</td>\n",
       "      <td>NaN</td>\n",
       "      <td>NaN</td>\n",
       "      <td>8230.0</td>\n",
       "      <td>23950.0</td>\n",
       "      <td>5050.0</td>\n",
       "      <td>8010.0</td>\n",
       "      <td>5780.0</td>\n",
       "      <td>19200.0</td>\n",
       "      <td>28050.0</td>\n",
       "      <td>18050.0</td>\n",
       "    </tr>\n",
       "    <tr>\n",
       "      <th>20201218</th>\n",
       "      <td>NaN</td>\n",
       "      <td>20450.000000</td>\n",
       "      <td>NaN</td>\n",
       "      <td>NaN</td>\n",
       "      <td>1225.000000</td>\n",
       "      <td>NaN</td>\n",
       "      <td>NaN</td>\n",
       "      <td>12050.000000</td>\n",
       "      <td>16000.000000</td>\n",
       "      <td>69200.000000</td>\n",
       "      <td>...</td>\n",
       "      <td>NaN</td>\n",
       "      <td>NaN</td>\n",
       "      <td>8310.0</td>\n",
       "      <td>23500.0</td>\n",
       "      <td>5060.0</td>\n",
       "      <td>8010.0</td>\n",
       "      <td>5510.0</td>\n",
       "      <td>19050.0</td>\n",
       "      <td>27950.0</td>\n",
       "      <td>19750.0</td>\n",
       "    </tr>\n",
       "    <tr>\n",
       "      <th>...</th>\n",
       "      <td>...</td>\n",
       "      <td>...</td>\n",
       "      <td>...</td>\n",
       "      <td>...</td>\n",
       "      <td>...</td>\n",
       "      <td>...</td>\n",
       "      <td>...</td>\n",
       "      <td>...</td>\n",
       "      <td>...</td>\n",
       "      <td>...</td>\n",
       "      <td>...</td>\n",
       "      <td>...</td>\n",
       "      <td>...</td>\n",
       "      <td>...</td>\n",
       "      <td>...</td>\n",
       "      <td>...</td>\n",
       "      <td>...</td>\n",
       "      <td>...</td>\n",
       "      <td>...</td>\n",
       "      <td>...</td>\n",
       "      <td>...</td>\n",
       "    </tr>\n",
       "    <tr>\n",
       "      <th>19950512</th>\n",
       "      <td>40437.636863</td>\n",
       "      <td>4092.465940</td>\n",
       "      <td>NaN</td>\n",
       "      <td>64905.579392</td>\n",
       "      <td>464078.487505</td>\n",
       "      <td>NaN</td>\n",
       "      <td>NaN</td>\n",
       "      <td>3611.993400</td>\n",
       "      <td>1690.570710</td>\n",
       "      <td>21917.741716</td>\n",
       "      <td>...</td>\n",
       "      <td>NaN</td>\n",
       "      <td>NaN</td>\n",
       "      <td>NaN</td>\n",
       "      <td>NaN</td>\n",
       "      <td>NaN</td>\n",
       "      <td>NaN</td>\n",
       "      <td>NaN</td>\n",
       "      <td>NaN</td>\n",
       "      <td>NaN</td>\n",
       "      <td>NaN</td>\n",
       "    </tr>\n",
       "    <tr>\n",
       "      <th>19950511</th>\n",
       "      <td>40733.418950</td>\n",
       "      <td>4092.465940</td>\n",
       "      <td>NaN</td>\n",
       "      <td>64905.579392</td>\n",
       "      <td>467846.377795</td>\n",
       "      <td>NaN</td>\n",
       "      <td>NaN</td>\n",
       "      <td>3618.694687</td>\n",
       "      <td>1700.068299</td>\n",
       "      <td>22283.037411</td>\n",
       "      <td>...</td>\n",
       "      <td>NaN</td>\n",
       "      <td>NaN</td>\n",
       "      <td>NaN</td>\n",
       "      <td>NaN</td>\n",
       "      <td>NaN</td>\n",
       "      <td>NaN</td>\n",
       "      <td>NaN</td>\n",
       "      <td>NaN</td>\n",
       "      <td>NaN</td>\n",
       "      <td>NaN</td>\n",
       "    </tr>\n",
       "    <tr>\n",
       "      <th>19950510</th>\n",
       "      <td>38958.726424</td>\n",
       "      <td>4166.874412</td>\n",
       "      <td>NaN</td>\n",
       "      <td>63272.734628</td>\n",
       "      <td>453402.798347</td>\n",
       "      <td>NaN</td>\n",
       "      <td>NaN</td>\n",
       "      <td>3618.694687</td>\n",
       "      <td>1728.561063</td>\n",
       "      <td>23086.687941</td>\n",
       "      <td>...</td>\n",
       "      <td>NaN</td>\n",
       "      <td>NaN</td>\n",
       "      <td>NaN</td>\n",
       "      <td>NaN</td>\n",
       "      <td>NaN</td>\n",
       "      <td>NaN</td>\n",
       "      <td>NaN</td>\n",
       "      <td>NaN</td>\n",
       "      <td>NaN</td>\n",
       "      <td>NaN</td>\n",
       "    </tr>\n",
       "    <tr>\n",
       "      <th>19950509</th>\n",
       "      <td>38874.217256</td>\n",
       "      <td>4315.691355</td>\n",
       "      <td>NaN</td>\n",
       "      <td>63680.945819</td>\n",
       "      <td>470986.286371</td>\n",
       "      <td>NaN</td>\n",
       "      <td>NaN</td>\n",
       "      <td>3618.694687</td>\n",
       "      <td>1757.053828</td>\n",
       "      <td>23086.687941</td>\n",
       "      <td>...</td>\n",
       "      <td>NaN</td>\n",
       "      <td>NaN</td>\n",
       "      <td>NaN</td>\n",
       "      <td>NaN</td>\n",
       "      <td>NaN</td>\n",
       "      <td>NaN</td>\n",
       "      <td>NaN</td>\n",
       "      <td>NaN</td>\n",
       "      <td>NaN</td>\n",
       "      <td>NaN</td>\n",
       "    </tr>\n",
       "    <tr>\n",
       "      <th>19950508</th>\n",
       "      <td>38578.435168</td>\n",
       "      <td>4434.744910</td>\n",
       "      <td>NaN</td>\n",
       "      <td>64497.368201</td>\n",
       "      <td>482917.938959</td>\n",
       "      <td>NaN</td>\n",
       "      <td>NaN</td>\n",
       "      <td>3679.006265</td>\n",
       "      <td>1785.546593</td>\n",
       "      <td>23378.924497</td>\n",
       "      <td>...</td>\n",
       "      <td>NaN</td>\n",
       "      <td>NaN</td>\n",
       "      <td>NaN</td>\n",
       "      <td>NaN</td>\n",
       "      <td>NaN</td>\n",
       "      <td>NaN</td>\n",
       "      <td>NaN</td>\n",
       "      <td>NaN</td>\n",
       "      <td>NaN</td>\n",
       "      <td>NaN</td>\n",
       "    </tr>\n",
       "  </tbody>\n",
       "</table>\n",
       "<p>6500 rows × 4766 columns</p>\n",
       "</div>"
      ],
      "text/plain": [
       "                000010        000020  000021        000030         000040  \\\n",
       "20201224           NaN  20450.000000     NaN           NaN    1115.000000   \n",
       "20201223           NaN  20450.000000     NaN           NaN    1115.000000   \n",
       "20201222           NaN  23900.000000     NaN           NaN    1120.000000   \n",
       "20201221           NaN  23450.000000     NaN           NaN    1215.000000   \n",
       "20201218           NaN  20450.000000     NaN           NaN    1225.000000   \n",
       "...                ...           ...     ...           ...            ...   \n",
       "19950512  40437.636863   4092.465940     NaN  64905.579392  464078.487505   \n",
       "19950511  40733.418950   4092.465940     NaN  64905.579392  467846.377795   \n",
       "19950510  38958.726424   4166.874412     NaN  63272.734628  453402.798347   \n",
       "19950509  38874.217256   4315.691355     NaN  63680.945819  470986.286371   \n",
       "19950508  38578.435168   4434.744910     NaN  64497.368201  482917.938959   \n",
       "\n",
       "          000041  000042        000050        000060        000070  ...  \\\n",
       "20201224     NaN     NaN  12000.000000  16200.000000  74500.000000  ...   \n",
       "20201223     NaN     NaN  12000.000000  16200.000000  74500.000000  ...   \n",
       "20201222     NaN     NaN  11950.000000  15900.000000  72900.000000  ...   \n",
       "20201221     NaN     NaN  12100.000000  16000.000000  75500.000000  ...   \n",
       "20201218     NaN     NaN  12050.000000  16000.000000  69200.000000  ...   \n",
       "...          ...     ...           ...           ...           ...  ...   \n",
       "19950512     NaN     NaN   3611.993400   1690.570710  21917.741716  ...   \n",
       "19950511     NaN     NaN   3618.694687   1700.068299  22283.037411  ...   \n",
       "19950510     NaN     NaN   3618.694687   1728.561063  23086.687941  ...   \n",
       "19950509     NaN     NaN   3618.694687   1757.053828  23086.687941  ...   \n",
       "19950508     NaN     NaN   3679.006265   1785.546593  23378.924497  ...   \n",
       "\n",
       "          950070  950100  950110   950130  950140  950160  950170   950180  \\\n",
       "20201224     NaN     NaN  8020.0  21450.0  4895.0  8010.0  5500.0  18650.0   \n",
       "20201223     NaN     NaN  8020.0  21450.0  4895.0  8010.0  5500.0  18650.0   \n",
       "20201222     NaN     NaN  8090.0  22900.0  4925.0  8010.0  5690.0  19500.0   \n",
       "20201221     NaN     NaN  8230.0  23950.0  5050.0  8010.0  5780.0  19200.0   \n",
       "20201218     NaN     NaN  8310.0  23500.0  5060.0  8010.0  5510.0  19050.0   \n",
       "...          ...     ...     ...      ...     ...     ...     ...      ...   \n",
       "19950512     NaN     NaN     NaN      NaN     NaN     NaN     NaN      NaN   \n",
       "19950511     NaN     NaN     NaN      NaN     NaN     NaN     NaN      NaN   \n",
       "19950510     NaN     NaN     NaN      NaN     NaN     NaN     NaN      NaN   \n",
       "19950509     NaN     NaN     NaN      NaN     NaN     NaN     NaN      NaN   \n",
       "19950508     NaN     NaN     NaN      NaN     NaN     NaN     NaN      NaN   \n",
       "\n",
       "           950190   950200  \n",
       "20201224  27500.0  18200.0  \n",
       "20201223  27500.0  18200.0  \n",
       "20201222  27400.0  18200.0  \n",
       "20201221  28050.0  18050.0  \n",
       "20201218  27950.0  19750.0  \n",
       "...           ...      ...  \n",
       "19950512      NaN      NaN  \n",
       "19950511      NaN      NaN  \n",
       "19950510      NaN      NaN  \n",
       "19950509      NaN      NaN  \n",
       "19950508      NaN      NaN  \n",
       "\n",
       "[6500 rows x 4766 columns]"
      ]
     },
     "execution_count": 13,
     "metadata": {},
     "output_type": "execute_result"
    }
   ],
   "source": [
    "data"
   ]
  },
  {
   "cell_type": "markdown",
   "metadata": {},
   "source": [
    "## 몬테 카를로 시뮬레이션을 이용한 가상 데이터 생성"
   ]
  },
  {
   "cell_type": "code",
   "execution_count": 14,
   "metadata": {},
   "outputs": [],
   "source": [
    "n_days = dff_after.shape[0]"
   ]
  },
  {
   "cell_type": "code",
   "execution_count": 15,
   "metadata": {},
   "outputs": [],
   "source": [
    "div1 = 0 ## 배당률을 0으로 가정\n",
    "div2 = 0\n",
    "r= 0.05/365 ## 무위험 이자율\n",
    "T = 1 #일간 변동성을 이용하여 데이터를 만드는 것이므로 T==1"
   ]
  },
  {
   "cell_type": "code",
   "execution_count": 16,
   "metadata": {},
   "outputs": [],
   "source": [
    "simul_data1 = np.ones(n_days)\n",
    "simul_data2 = np.ones(n_days)"
   ]
  },
  {
   "cell_type": "code",
   "execution_count": 17,
   "metadata": {},
   "outputs": [],
   "source": [
    "x1 = np.random.normal(size = n_days)\n",
    "x2 = np.random.normal(size=n_days)"
   ]
  },
  {
   "cell_type": "code",
   "execution_count": 18,
   "metadata": {},
   "outputs": [],
   "source": [
    "e1 = x1.copy()\n",
    "e2 = corr*x1+x2*np.sqrt(1-pow(corr,2))"
   ]
  },
  {
   "cell_type": "code",
   "execution_count": 19,
   "metadata": {},
   "outputs": [],
   "source": [
    "simul_data1 = simul_data1/np.exp((div1-r-pow(sigma1,2)/2)*T + sigma1*e1*np.sqrt(T))\n",
    "simul_data2 = simul_data2/np.exp((div1-r-pow(sigma2,2)/2)*T + sigma1*e2*np.sqrt(T))"
   ]
  },
  {
   "cell_type": "code",
   "execution_count": 20,
   "metadata": {},
   "outputs": [
    {
     "data": {
      "text/plain": [
       "array([1.00661941, 1.02176089, 0.99953167, 0.98288477, 1.01828836,\n",
       "       1.00375117, 0.99504319, 1.00953107, 1.0181    , 1.00542373,\n",
       "       0.97657342, 0.97573412, 0.98956727, 0.97729727, 1.00694047,\n",
       "       1.02323636, 1.01067695, 0.99100941, 1.00281665, 1.02565733,\n",
       "       1.02112882, 1.01357123, 1.02077201, 0.99481845, 1.02750763,\n",
       "       1.00554305, 0.99599043, 1.01008625, 1.01670363, 0.99271582,\n",
       "       0.9930171 , 0.97022745, 0.99274056, 0.98255807, 0.99686818,\n",
       "       0.96598663, 1.00490209, 0.99297897, 1.01045317, 0.97082137,\n",
       "       0.99941827, 0.97276791, 1.02188612, 1.00785732, 1.01002222,\n",
       "       1.00398763, 0.9925314 , 0.99605445, 1.03469725, 0.98951104,\n",
       "       0.98770848, 1.00813946, 1.00812173, 0.99152295, 1.01227917,\n",
       "       0.98132887, 0.98903503, 0.9875562 , 0.99473147, 0.98253869,\n",
       "       1.01168513, 0.98513772, 1.00086948, 1.02843886, 1.00501349,\n",
       "       0.99832563, 0.98849163, 1.02531649, 1.00864145, 0.98140055,\n",
       "       1.00315261, 1.02304378, 0.9944218 , 1.031912  , 0.98891959,\n",
       "       0.97953739, 1.01070812, 1.00711286, 0.98806487, 0.9757757 ,\n",
       "       0.96699344, 0.98720264, 1.00346077, 1.01825491, 1.00141255,\n",
       "       0.99633483, 1.01172719, 1.00576786, 0.99005911, 1.02475458,\n",
       "       1.01987212, 0.99370847, 0.9840862 , 1.01025021, 1.01721422,\n",
       "       1.00352526, 0.9986947 , 1.02667576, 0.97808406, 1.0101103 ,\n",
       "       1.02185679, 1.01020716, 1.02167403, 1.00787696, 1.00968044,\n",
       "       1.00199709, 0.98847426, 1.00366386, 1.00185657, 1.02615111,\n",
       "       1.01503318, 1.00012652, 1.00332957, 1.01285317, 0.98285845,\n",
       "       0.99929578, 0.97911405, 0.96893307, 0.99126074, 0.96660247,\n",
       "       1.00022074, 1.02581355, 0.98769981, 0.98947131, 1.00188927,\n",
       "       1.02042103, 1.00482413, 1.01660097, 0.99061678, 0.98952233,\n",
       "       1.01101775, 0.98559053, 0.99414956, 0.99496765, 0.99928835,\n",
       "       0.99360816, 1.00046446, 1.02052348, 0.99215482, 0.98435838,\n",
       "       0.9838698 , 1.00768977, 1.02248525, 0.98552826, 0.96494046,\n",
       "       1.0215247 , 1.00684149, 1.00834661, 1.03744956, 0.9734436 ,\n",
       "       0.99685892, 1.02391606, 1.00477568, 1.03843681, 0.9783346 ,\n",
       "       1.00525951, 0.99096186, 1.00018   , 1.0005926 , 0.99249021,\n",
       "       0.99597647, 0.99124249, 0.98216053, 1.02793125, 1.01052654,\n",
       "       0.99566461, 1.00292807, 0.98441329, 1.00389608, 1.01294858,\n",
       "       0.96143131, 1.02357985, 0.99997648, 1.00338952, 1.01503136,\n",
       "       0.98939012, 0.98308831, 0.99665585, 1.01009099, 0.99326758,\n",
       "       1.01862619, 1.00992611, 0.99125815, 0.98673765, 0.97836463,\n",
       "       0.99687434, 0.99862291, 1.00425181, 1.00151964, 0.99211379,\n",
       "       1.00361747, 1.00397269, 1.02305987, 0.99854064, 0.97084441,\n",
       "       0.99739749, 0.99400001, 0.98643909, 1.01426168, 0.97018378,\n",
       "       1.01167535, 0.99775304, 1.00341443, 1.00743733, 1.02174864,\n",
       "       1.00159556, 1.00858866, 1.00114987, 1.01646946, 1.01345659,\n",
       "       0.99548007, 0.99417069, 1.00604783, 1.02946978, 0.97013657,\n",
       "       0.98883938, 0.99016723, 0.99112283, 0.98165098, 0.99865867,\n",
       "       1.00776857, 1.01238211, 0.97913031, 1.00027527, 0.98388199,\n",
       "       0.99196265, 0.99028666, 0.99722546, 0.99872297, 1.02767216,\n",
       "       1.0351741 , 1.03230037, 1.03171956, 1.01689255, 0.98131237,\n",
       "       1.0018073 , 0.99717698, 1.00162699, 0.99744352, 0.98880063,\n",
       "       0.9963504 , 0.99874161, 0.98939086, 0.98159287, 1.00928703,\n",
       "       1.01914281, 1.01139401, 0.99927497, 1.00966831, 1.00168541,\n",
       "       0.99676836, 1.01888887, 1.03345256, 0.99533619, 0.97949961,\n",
       "       1.02526498, 1.00118176, 0.9796738 , 0.98976792, 0.99008951,\n",
       "       0.98377666, 0.98237528, 0.99280169, 1.0125951 , 1.00673588,\n",
       "       1.00667742, 0.98653936, 0.99532053, 1.00965514, 0.99877119,\n",
       "       0.99347019, 0.99281386, 1.02432935, 0.99135579, 0.98918039,\n",
       "       1.00830865, 1.02416581, 0.97788265, 0.9771108 , 0.98760572,\n",
       "       0.99435943, 0.97023273, 1.01174072, 0.98953793, 1.00634578,\n",
       "       1.02821017, 1.01780211, 1.01011408, 1.01858101, 0.97080843,\n",
       "       1.02352465, 0.99321041, 1.01003627, 0.99306436, 0.9728659 ,\n",
       "       0.98516598, 0.99269656, 1.00868338, 1.01345207, 1.03879089,\n",
       "       0.9806906 , 0.98162835, 0.99120445, 0.98770009, 1.01164878,\n",
       "       1.00159072, 0.99530819, 0.98805157, 0.99834368, 1.00259844,\n",
       "       0.96709851, 0.9969083 , 1.0339274 , 0.98903072, 1.01953747,\n",
       "       0.98790753, 0.9674131 , 0.98456138, 1.01038283, 1.00960166,\n",
       "       0.99805013, 0.97340568, 0.99567815, 0.99802394, 0.95688608,\n",
       "       1.0090183 , 0.9676644 , 1.01242419, 0.99033063, 0.98078862,\n",
       "       0.98983219, 0.98417616, 0.99017388, 1.01419564, 0.98663298,\n",
       "       1.03483908, 1.00044106, 1.02389711, 1.01251613, 1.00092476,\n",
       "       0.96847075, 0.99055268, 1.00753087, 1.01352414, 0.9849615 ,\n",
       "       0.99095406, 1.01772644, 1.0390888 , 0.99813187, 1.03324897,\n",
       "       0.99005682, 1.0034806 , 0.98084994, 0.9955783 , 0.98189875,\n",
       "       0.98506374, 1.02280068, 1.01502966, 0.98826483, 1.00591395,\n",
       "       1.02055364, 0.98757468, 0.99434632, 1.01603395, 0.99195665,\n",
       "       0.98361227, 1.00329917, 0.9964735 , 0.9955563 , 1.0263196 ,\n",
       "       1.0001402 , 0.99781188, 0.99399007, 0.99402164, 1.0044404 ,\n",
       "       1.00492963, 1.01028311, 0.96467843, 1.00706419, 1.02482692,\n",
       "       1.01275283, 0.99265672, 1.03612926, 0.98513295, 0.9955949 ,\n",
       "       0.95384576, 1.00950283, 0.97838374, 1.01273743, 0.98361301,\n",
       "       0.9953074 , 0.99887997, 1.01422007, 1.02163869, 1.02375895,\n",
       "       0.99049064, 1.02142141, 1.00675159, 1.02812464, 0.97603193,\n",
       "       0.98543429, 0.99700147, 0.9838183 , 1.02414747, 0.99301212,\n",
       "       1.00131733, 1.00086894, 1.00170255, 0.99187327, 0.98616737,\n",
       "       0.99086515, 0.98746768, 1.00710886, 1.01354851, 0.96932068,\n",
       "       0.98018971, 1.02071546, 1.0028828 , 0.99393489, 1.0207446 ,\n",
       "       1.00733413, 0.98846761, 1.00478805, 1.02161687, 0.9999683 ,\n",
       "       1.0281013 , 0.9901879 , 0.9805786 , 0.95680068, 1.00663034,\n",
       "       0.99813025, 0.99048822, 1.0153384 , 1.00921632, 1.02524613,\n",
       "       1.01134478, 1.00038684, 0.96591493, 1.00819051, 0.99411048,\n",
       "       0.99950222, 1.00005159, 0.99593458, 1.00459546, 1.04478964,\n",
       "       1.00495893, 1.00493568, 1.02434534, 1.00577855, 0.97097173,\n",
       "       0.99671859, 0.99642079, 0.99733018, 0.99256244, 1.00845187,\n",
       "       0.98739287, 1.01025761, 1.00893196, 1.00400554, 0.99220106,\n",
       "       0.99867431, 0.9816683 , 0.99153695, 1.01648681, 0.9671443 ,\n",
       "       0.99107757, 1.01663747, 0.99306788, 0.96779754, 1.01283814,\n",
       "       1.0315413 , 0.98920962, 1.01383319, 1.01594208, 0.99076279,\n",
       "       1.03138304, 1.01702292, 0.99036912, 0.98962985, 1.00339694,\n",
       "       1.01045041, 1.00515914, 0.95771328, 0.994903  , 1.05759528,\n",
       "       1.00688625, 0.98009225, 0.99578652, 0.96521583, 1.0047166 ,\n",
       "       1.00747872, 1.00808814, 1.00045527, 0.97700065, 1.0061698 ,\n",
       "       1.00055709, 1.01783039, 0.96851259, 1.03227826, 1.01764505,\n",
       "       0.99083262, 0.98841233, 1.02277792, 1.02540835, 1.04199275,\n",
       "       1.01850684, 1.01069602, 1.04090124, 1.02019495, 1.02035494,\n",
       "       0.98401866, 0.99825411, 1.00740773, 0.97344599, 1.01786773,\n",
       "       0.96719185, 1.00052427, 0.99823847, 1.00912439, 1.0126394 ,\n",
       "       0.99242348, 1.01642904, 0.99091682, 1.00101664, 1.02631402,\n",
       "       1.00330235, 1.00565678, 1.01046316])"
      ]
     },
     "execution_count": 20,
     "metadata": {},
     "output_type": "execute_result"
    }
   ],
   "source": [
    "simul_data1"
   ]
  },
  {
   "cell_type": "code",
   "execution_count": 21,
   "metadata": {},
   "outputs": [],
   "source": [
    "simul_data=pd.DataFrame(columns=dff_after.columns,index=dff_after.index)"
   ]
  },
  {
   "cell_type": "code",
   "execution_count": 22,
   "metadata": {},
   "outputs": [
    {
     "data": {
      "text/html": [
       "<div>\n",
       "<style scoped>\n",
       "    .dataframe tbody tr th:only-of-type {\n",
       "        vertical-align: middle;\n",
       "    }\n",
       "\n",
       "    .dataframe tbody tr th {\n",
       "        vertical-align: top;\n",
       "    }\n",
       "\n",
       "    .dataframe thead th {\n",
       "        text-align: right;\n",
       "    }\n",
       "</style>\n",
       "<table border=\"1\" class=\"dataframe\">\n",
       "  <thead>\n",
       "    <tr style=\"text-align: right;\">\n",
       "      <th></th>\n",
       "      <th>Samsung</th>\n",
       "      <th>Hynix</th>\n",
       "    </tr>\n",
       "    <tr>\n",
       "      <th>Date</th>\n",
       "      <th></th>\n",
       "      <th></th>\n",
       "    </tr>\n",
       "  </thead>\n",
       "  <tbody>\n",
       "    <tr>\n",
       "      <th>2019-11-01</th>\n",
       "      <td>NaN</td>\n",
       "      <td>NaN</td>\n",
       "    </tr>\n",
       "    <tr>\n",
       "      <th>2019-11-04</th>\n",
       "      <td>NaN</td>\n",
       "      <td>NaN</td>\n",
       "    </tr>\n",
       "    <tr>\n",
       "      <th>2019-11-05</th>\n",
       "      <td>NaN</td>\n",
       "      <td>NaN</td>\n",
       "    </tr>\n",
       "    <tr>\n",
       "      <th>2019-11-06</th>\n",
       "      <td>NaN</td>\n",
       "      <td>NaN</td>\n",
       "    </tr>\n",
       "    <tr>\n",
       "      <th>2019-11-07</th>\n",
       "      <td>NaN</td>\n",
       "      <td>NaN</td>\n",
       "    </tr>\n",
       "    <tr>\n",
       "      <th>...</th>\n",
       "      <td>...</td>\n",
       "      <td>...</td>\n",
       "    </tr>\n",
       "    <tr>\n",
       "      <th>2021-12-13</th>\n",
       "      <td>NaN</td>\n",
       "      <td>NaN</td>\n",
       "    </tr>\n",
       "    <tr>\n",
       "      <th>2021-12-14</th>\n",
       "      <td>NaN</td>\n",
       "      <td>NaN</td>\n",
       "    </tr>\n",
       "    <tr>\n",
       "      <th>2021-12-15</th>\n",
       "      <td>NaN</td>\n",
       "      <td>NaN</td>\n",
       "    </tr>\n",
       "    <tr>\n",
       "      <th>2021-12-16</th>\n",
       "      <td>NaN</td>\n",
       "      <td>NaN</td>\n",
       "    </tr>\n",
       "    <tr>\n",
       "      <th>2021-12-17</th>\n",
       "      <td>NaN</td>\n",
       "      <td>NaN</td>\n",
       "    </tr>\n",
       "  </tbody>\n",
       "</table>\n",
       "<p>528 rows × 2 columns</p>\n",
       "</div>"
      ],
      "text/plain": [
       "           Samsung Hynix\n",
       "Date                    \n",
       "2019-11-01     NaN   NaN\n",
       "2019-11-04     NaN   NaN\n",
       "2019-11-05     NaN   NaN\n",
       "2019-11-06     NaN   NaN\n",
       "2019-11-07     NaN   NaN\n",
       "...            ...   ...\n",
       "2021-12-13     NaN   NaN\n",
       "2021-12-14     NaN   NaN\n",
       "2021-12-15     NaN   NaN\n",
       "2021-12-16     NaN   NaN\n",
       "2021-12-17     NaN   NaN\n",
       "\n",
       "[528 rows x 2 columns]"
      ]
     },
     "execution_count": 22,
     "metadata": {},
     "output_type": "execute_result"
    }
   ],
   "source": [
    "simul_data"
   ]
  },
  {
   "cell_type": "code",
   "execution_count": 51,
   "metadata": {},
   "outputs": [],
   "source": [
    "simul_data[\"Samsung\"]=simul_data1\n",
    "simul_data[\"Hynix\"]=simul_data2"
   ]
  },
  {
   "cell_type": "code",
   "execution_count": 52,
   "metadata": {},
   "outputs": [],
   "source": [
    "# simul_data.index = pd.to_datetime(simul_data.index, format = '%Y%m%d')"
   ]
  },
  {
   "cell_type": "code",
   "execution_count": 53,
   "metadata": {},
   "outputs": [
    {
     "data": {
      "text/plain": [
       "<AxesSubplot:xlabel='Date'>"
      ]
     },
     "execution_count": 53,
     "metadata": {},
     "output_type": "execute_result"
    },
    {
     "data": {
      "image/png": "[encoded data removed]",
      "text/plain": [
       "<Figure size 432x288 with 1 Axes>"
      ]
     },
     "metadata": {
      "needs_background": "light"
     },
     "output_type": "display_data"
    }
   ],
   "source": [
    "# 삼성전자와 하이닉스의 일별 예상 수익률 데이터를 plot한 것\n",
    "\n",
    "simul_data.plot()"
   ]
  },
  {
   "cell_type": "markdown",
   "metadata": {},
   "source": [
    "### 수익률 누적곱을 이용한 가상 주가 데이터 생성"
   ]
  },
  {
   "cell_type": "code",
   "execution_count": 54,
   "metadata": {},
   "outputs": [
    {
     "data": {
      "text/plain": [
       "<AxesSubplot:xlabel='Date'>"
      ]
     },
     "execution_count": 54,
     "metadata": {},
     "output_type": "execute_result"
    },
    {
     "data": {
      "image/png": "[encoded data removed]",
      "text/plain": [
       "<Figure size 432x288 with 1 Axes>"
      ]
     },
     "metadata": {
      "needs_background": "light"
     },
     "output_type": "display_data"
    }
   ],
   "source": [
    "simul_data[\"Samsung\"][::-1].cumprod().plot()\n",
    "simul_data[\"Hynix\"][::-1].cumprod().plot()"
   ]
  },
  {
   "cell_type": "code",
   "execution_count": 55,
   "metadata": {
    "scrolled": true
   },
   "outputs": [],
   "source": [
    "simul_data[\"Samsung\"] = simul_data[\"Samsung\"][::-1].cumprod()[::-1]\n",
    "simul_data[\"Hynix\"] = simul_data[\"Hynix\"][::-1].cumprod()[::-1]"
   ]
  },
  {
   "cell_type": "code",
   "execution_count": 57,
   "metadata": {},
   "outputs": [
    {
     "data": {
      "text/html": [
       "<div>\n",
       "<style scoped>\n",
       "    .dataframe tbody tr th:only-of-type {\n",
       "        vertical-align: middle;\n",
       "    }\n",
       "\n",
       "    .dataframe tbody tr th {\n",
       "        vertical-align: top;\n",
       "    }\n",
       "\n",
       "    .dataframe thead th {\n",
       "        text-align: right;\n",
       "    }\n",
       "</style>\n",
       "<table border=\"1\" class=\"dataframe\">\n",
       "  <thead>\n",
       "    <tr style=\"text-align: right;\">\n",
       "      <th></th>\n",
       "      <th>Samsung</th>\n",
       "      <th>Hynix</th>\n",
       "    </tr>\n",
       "    <tr>\n",
       "      <th>Date</th>\n",
       "      <th></th>\n",
       "      <th></th>\n",
       "    </tr>\n",
       "  </thead>\n",
       "  <tbody>\n",
       "    <tr>\n",
       "      <th>2019-11-01</th>\n",
       "      <td>1.250965</td>\n",
       "      <td>0.984537</td>\n",
       "    </tr>\n",
       "    <tr>\n",
       "      <th>2019-11-04</th>\n",
       "      <td>1.242739</td>\n",
       "      <td>0.985377</td>\n",
       "    </tr>\n",
       "    <tr>\n",
       "      <th>2019-11-05</th>\n",
       "      <td>1.216271</td>\n",
       "      <td>0.979364</td>\n",
       "    </tr>\n",
       "    <tr>\n",
       "      <th>2019-11-06</th>\n",
       "      <td>1.216841</td>\n",
       "      <td>0.960448</td>\n",
       "    </tr>\n",
       "    <tr>\n",
       "      <th>2019-11-07</th>\n",
       "      <td>1.238030</td>\n",
       "      <td>0.939338</td>\n",
       "    </tr>\n",
       "    <tr>\n",
       "      <th>...</th>\n",
       "      <td>...</td>\n",
       "      <td>...</td>\n",
       "    </tr>\n",
       "    <tr>\n",
       "      <th>2021-12-13</th>\n",
       "      <td>1.047427</td>\n",
       "      <td>1.017678</td>\n",
       "    </tr>\n",
       "    <tr>\n",
       "      <th>2021-12-14</th>\n",
       "      <td>1.046363</td>\n",
       "      <td>1.024149</td>\n",
       "    </tr>\n",
       "    <tr>\n",
       "      <th>2021-12-15</th>\n",
       "      <td>1.019535</td>\n",
       "      <td>1.025555</td>\n",
       "    </tr>\n",
       "    <tr>\n",
       "      <th>2021-12-16</th>\n",
       "      <td>1.016179</td>\n",
       "      <td>1.004754</td>\n",
       "    </tr>\n",
       "    <tr>\n",
       "      <th>2021-12-17</th>\n",
       "      <td>1.010463</td>\n",
       "      <td>1.011052</td>\n",
       "    </tr>\n",
       "  </tbody>\n",
       "</table>\n",
       "<p>528 rows × 2 columns</p>\n",
       "</div>"
      ],
      "text/plain": [
       "             Samsung     Hynix\n",
       "Date                          \n",
       "2019-11-01  1.250965  0.984537\n",
       "2019-11-04  1.242739  0.985377\n",
       "2019-11-05  1.216271  0.979364\n",
       "2019-11-06  1.216841  0.960448\n",
       "2019-11-07  1.238030  0.939338\n",
       "...              ...       ...\n",
       "2021-12-13  1.047427  1.017678\n",
       "2021-12-14  1.046363  1.024149\n",
       "2021-12-15  1.019535  1.025555\n",
       "2021-12-16  1.016179  1.004754\n",
       "2021-12-17  1.010463  1.011052\n",
       "\n",
       "[528 rows x 2 columns]"
      ]
     },
     "execution_count": 57,
     "metadata": {},
     "output_type": "execute_result"
    }
   ],
   "source": [
    "simul_data"
   ]
  },
  {
   "cell_type": "markdown",
   "metadata": {},
   "source": [
    "### 케이스 별로 수익을 추정"
   ]
  },
  {
   "cell_type": "code",
   "execution_count": 101,
   "metadata": {},
   "outputs": [],
   "source": [
    "case=0\n",
    "\n",
    "time1=(simul_data.index[0]+datetime.timedelta(days=185)).strftime('%Y-%m-%d')\n",
    "time2=(simul_data.index[0]+datetime.timedelta(days=364)).strftime('%Y-%m-%d')\n",
    "time3=(simul_data.index[0]+datetime.timedelta(days=364+185)).strftime('%Y-%m-%d')\n",
    "time4=(simul_data.index[0]+datetime.timedelta(days=364+364)).strftime('%Y-%m-%d')"
   ]
  },
  {
   "cell_type": "code",
   "execution_count": 110,
   "metadata": {},
   "outputs": [],
   "source": [
    "profit=0\n",
    "if simul_data[\"Samsung\"].loc[time1]>0.85 and simul_data[\"Hynix\"].loc[time1]>0.85:\n",
    "    case=1\n",
    "    profit=pow(1.125,0.5)/pow(1+r*365,0.5)\n",
    "elif simul_data[\"Samsung\"].loc[time2]>0.8 and simul_data[\"Hynix\"].loc[time2]>0.80:\n",
    "    case=2\n",
    "    profit=pow(1.125,1)/pow(1+r*365,1)\n",
    "elif simul_data[\"Samsung\"].loc[time3]>0.75 and simul_data[\"Hynix\"].loc[time3]>0.75:\n",
    "    case=3\n",
    "    profit=pow(1.125,1.5)/pow(1+r*365,1.5)\n",
    "elif simul_data[\"Samsung\"].loc[time4]>0.70 and simul_data[\"Hynix\"].loc[time4]>0.70:\n",
    "    case=4\n",
    "    profit=pow(1.125,2)/pow(1+r*365,2)"
   ]
  },
  {
   "cell_type": "code",
   "execution_count": 111,
   "metadata": {},
   "outputs": [
    {
     "name": "stdout",
     "output_type": "stream",
     "text": [
      "1 1.035098339013531\n"
     ]
    }
   ],
   "source": [
    "### 60퍼 이상 하락한적이 없는경우\n",
    "if simul_data[simul_data<0.6].dropna().shape[0]==0 and (simul_data[\"Samsung\"].loc[time4]<0.70 or simul_data[\"Hynix\"].loc[time4]<0.70 ):\n",
    "    case=5\n",
    "    profit=1/pow(1+r*365,2)\n",
    "    \n",
    "### 60퍼 이상 하락한적이 있는경우\n",
    "if simul_data[simul_data<0.6].dropna().shape[0]!=0 and (simul_data[\"Samsung\"].loc[time4]<0.70 or simul_data[\"Hynix\"].loc[time4]<0.70 ):\n",
    "    case=6\n",
    "    profit=min(simul_data[\"Samsung\"].loc[time4],simul_data[\"Hynix\"].loc[time4])/pow(1+r*365,2)\n",
    "    \n",
    "print(case,profit)"
   ]
  },
  {
   "cell_type": "markdown",
   "metadata": {},
   "source": [
    "### N개의 데이터를 생성"
   ]
  },
  {
   "cell_type": "code",
   "execution_count": 112,
   "metadata": {},
   "outputs": [],
   "source": [
    "##몬테 카를로 시뮬레션을 이용한 가상 데이터 생성\n",
    "\n",
    "n_days=dff_after.shape[0]      ### 만들 데이터 크기 정의\n",
    "div1=0 ##배당률\n",
    "div2=0\n",
    "r=0.05/365 #무위험 이자율\n",
    "T=1 #일간 변동성을 이용하여 데이터를 만드는 것이므로 T==1\n",
    "\n",
    "#N개의 시뮬레이션 생성\n",
    "N=100\n",
    "simul_data1=np.ones((n_days,N))\n",
    "simul_data2=np.ones((n_days,N))\n",
    "x1=np.random.normal(size=(n_days,N))     ### 정규분포 (0,1) 생성\n",
    "x2=np.random.normal(size=(n_days,N))\n",
    "\n",
    "e1=x1\n",
    "e2=corr*x1+x2*np.sqrt(1-pow(corr,2))  ###몬테카를로 변수\n",
    "simul_data1=simul_data1/np.exp((div1-r-pow(sigma1,2)/2)*T+sigma1*e1*np.sqrt(T))\n",
    "simul_data2=simul_data2/np.exp((div2-r-pow(sigma2,2)/2)*T+sigma2*e2*np.sqrt(T))"
   ]
  },
  {
   "cell_type": "markdown",
   "metadata": {},
   "source": [
    "### N개의 데이터를 case별로 나누어 현가 계산"
   ]
  },
  {
   "cell_type": "code",
   "execution_count": 122,
   "metadata": {},
   "outputs": [],
   "source": [
    "case_list=[]\n",
    "profit_list=[]\n",
    "for i in range(N):\n",
    "    simul_data=pd.DataFrame(columns=dff_after.columns,index=dff_after.index)\n",
    "    simul_data[\"Samsung\"]=simul_data1[:,i]\n",
    "    simul_data[\"Hynix\"]=simul_data2[:,i]\n",
    "    simul_data.index = pd.to_datetime(simul_data.index, format = '%Y%m%d')\n",
    "    simul_data[\"Samsung\"]=simul_data[\"Samsung\"][::-1].cumprod()[::-1]\n",
    "    simul_data[\"Hynix\"]=simul_data[\"Hynix\"][::-1].cumprod()[::-1]\n",
    "    \n",
    "\n",
    "    case=0\n",
    "\n",
    "    time1=(simul_data.index[0]+datetime.timedelta(days=185)).strftime('%Y-%m-%d')\n",
    "    time2=(simul_data.index[0]+datetime.timedelta(days=364)).strftime('%Y-%m-%d')\n",
    "    time3=(simul_data.index[0]+datetime.timedelta(days=364+185)).strftime('%Y-%m-%d')\n",
    "    time4=(simul_data.index[0]+datetime.timedelta(days=364+364)).strftime('%Y-%m-%d')\n",
    "    profit=0\n",
    "    if simul_data[\"Samsung\"].loc[time1]>0.85 and simul_data[\"Hynix\"].loc[time1]>0.85:\n",
    "        case=1\n",
    "        profit=pow(1.125,0.5)/pow(1+r*365,0.5)\n",
    "    elif simul_data[\"Samsung\"].loc[time2]>0.8 and simul_data[\"Hynix\"].loc[time2]>0.80:\n",
    "        case=2\n",
    "        profit=pow(1.125,1)/pow(1+r*365,1)\n",
    "    elif simul_data[\"Samsung\"].loc[time3]>0.75 and simul_data[\"Hynix\"].loc[time3]>0.75:\n",
    "        case=3\n",
    "        profit=pow(1.125,1.5)/pow(1+r*365,1.5)\n",
    "    elif simul_data[\"Samsung\"].loc[time4]>0.70 and simul_data[\"Hynix\"].loc[time4]>0.70:\n",
    "        case=4\n",
    "        profit=pow(1.125,2)/pow(1+r*365,2)\n",
    "    ### 60퍼 이상 하락한적이 없는경우\n",
    "    if simul_data[simul_data<0.6].dropna().shape[0]==0 and (simul_data[\"Samsung\"].loc[time4]<0.70 or simul_data[\"Hynix\"].loc[time4]<0.70 ):\n",
    "        case=5\n",
    "        profit=1/pow(1+r*365,2)\n",
    "    ### 60퍼 이상 하락한적이 있는경우\n",
    "    if simul_data[simul_data<0.6].dropna().shape[0]!=0 and (simul_data[\"Samsung\"].loc[time4]<0.70 or simul_data[\"Hynix\"].loc[time4]<0.70 ):\n",
    "        case=6\n",
    "        profit=min(simul_data[\"Samsung\"].loc[time4],simul_data[\"Hynix\"].loc[time4])/pow(1+r*365,2)\n",
    "    case_list.append(case)\n",
    "    profit_list.append(profit)"
   ]
  },
  {
   "cell_type": "code",
   "execution_count": 133,
   "metadata": {},
   "outputs": [
    {
     "data": {
      "text/plain": [
       "1.0626643484785103"
      ]
     },
     "execution_count": 133,
     "metadata": {},
     "output_type": "execute_result"
    }
   ],
   "source": [
    "sum(profit_list)/len(profit_list)"
   ]
  },
  {
   "cell_type": "markdown",
   "metadata": {},
   "source": [
    "profit_list의 평균이 현재 ELS의 가격<br>\n",
    "profit_list의 평균이 1.063으로 미래가격을 1로 생각했을 때 6.3% 비쌈<br>\n",
    "즉, 삼전이랑 하닉 묶은 ELS상품은 안사야함"
   ]
  },
  {
   "cell_type": "code",
   "execution_count": null,
   "metadata": {},
   "outputs": [],
   "source": []
  },
  {
   "cell_type": "code",
   "execution_count": null,
   "metadata": {},
   "outputs": [],
   "source": []
  }
 ],
 "metadata": {
  "kernelspec": {
   "display_name": "Python 3",
   "language": "python",
   "name": "python3"
  },
  "language_info": {
   "codemirror_mode": {
    "name": "ipython",
    "version": 3
   },
   "file_extension": ".py",
   "mimetype": "text/x-python",
   "name": "python",
   "nbconvert_exporter": "python",
   "pygments_lexer": "ipython3",
   "version": "3.8.5"
  }
 },
 "nbformat": 4,
 "nbformat_minor": 5
}
